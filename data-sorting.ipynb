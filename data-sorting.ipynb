{
 "cells": [
  {
   "cell_type": "markdown",
   "metadata": {},
   "source": [
    "# DATA SORTING\n",
    "---\n"
   ]
  },
  {
   "cell_type": "markdown",
   "metadata": {},
   "source": [
    "In order to sort a DataFrame, you can use the function sort_values(). Data can be sorted in Ascending or Descending order.\n",
    "\n",
    "<https://pandas.pydata.org/pandas-docs/stable/reference/api/pandas.DataFrame.sort_values.html>"
   ]
  },
  {
   "cell_type": "markdown",
   "metadata": {},
   "source": [
    "The data in the cars.csv file contains basic information about several luxury cars."
   ]
  },
  {
   "cell_type": "code",
   "execution_count": null,
   "metadata": {},
   "outputs": [],
   "source": [
    "import pandas as pd\n",
    "cars = pd.read_csv('cars.csv')\n",
    "cars"
   ]
  },
  {
   "cell_type": "markdown",
   "metadata": {},
   "source": [
    "To sort the list of cars alphabetically, use the sort function and enter the name of the column by which the data should be sorted."
   ]
  },
  {
   "cell_type": "code",
   "execution_count": null,
   "metadata": {},
   "outputs": [],
   "source": [
    "cars.sort_values(by='Name')"
   ]
  },
  {
   "cell_type": "markdown",
   "metadata": {},
   "source": [
    "You can also arrange the data in reverse order, e.g. starting with the most expensive car."
   ]
  },
  {
   "cell_type": "code",
   "execution_count": null,
   "metadata": {},
   "outputs": [],
   "source": [
    "cars.sort_values(by='PriceUSD', ascending=False)"
   ]
  },
  {
   "cell_type": "markdown",
   "metadata": {},
   "source": [
    "### Tasks"
   ]
  },
  {
   "cell_type": "markdown",
   "metadata": {},
   "source": [
    "The data below contains the exam results and whether the exam was passed.\n",
    "\n",
    "Name     | Total | Result\n",
    "---------|-------|---------\n",
    "Olivier  | 90    | passed\n",
    "Naomi    | 42    | failed\n",
    "Olivia   | 71    | passed\n",
    "Nolan    | 100   | passed\n",
    "Dylan    | 39    | failed"
   ]
  },
  {
   "cell_type": "markdown",
   "metadata": {},
   "source": [
    "Follow the instructions below. After completing each point, display the contents of the DataFrame.\n",
    "\n",
    "1. Based on the data in the table, create the content of the DataFrame.\n",
    "1. Sort the list of people alphabetically.\n",
    "1. Sort the list of people according to their points, starting with the highest value.\n",
    "1. Sort the list of people by their score, starting with the people who passed the exam.\n",
    "1. Sort the list of people by their score, starting with those who passed the exam and then by those names alphabetically. Hint. Use the link above to see how to sort data by more than one column."
   ]
  },
  {
   "cell_type": "markdown",
   "metadata": {},
   "source": [
    "Add the 'University' column to your exam DataFrame. Assign the first two people the name 'UEK' and the remaining three people the name 'AGH'. Display updated DataFrame."
   ]
  },
  {
   "cell_type": "markdown",
   "metadata": {},
   "source": [
    "With the modified DataFrame:\n",
    "\n",
    "1. Sort the list by the univeristy, and then by the name. Display the sorted data.\n",
    "1. Display the people names alphabetically (only one column of data).\n",
    "1. Display two columns: Total and Name, in the given order. Sort the data by the number of points obtained, descending.\n",
    "\n",
    "\n",
    "\n"
   ]
  }
 ],
 "metadata": {
  "kernelspec": {
   "display_name": "Python 3",
   "language": "python",
   "name": "python3"
  },
  "language_info": {
   "codemirror_mode": {
    "name": "ipython",
    "version": 3
   },
   "file_extension": ".py",
   "mimetype": "text/x-python",
   "name": "python",
   "nbconvert_exporter": "python",
   "pygments_lexer": "ipython3",
   "version": "3.11.1"
  }
 },
 "nbformat": 4,
 "nbformat_minor": 2
}
