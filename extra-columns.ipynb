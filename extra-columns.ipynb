{
 "cells": [
  {
   "cell_type": "markdown",
   "metadata": {},
   "source": [
    "# EXTRA COLUMNS\n",
    "---"
   ]
  },
  {
   "cell_type": "markdown",
   "metadata": {},
   "source": [
    "You can extend an existing DataFrame with columns whose values depend on the values of already existing columns."
   ]
  },
  {
   "cell_type": "code",
   "execution_count": null,
   "metadata": {},
   "outputs": [],
   "source": [
    "import pandas as pd"
   ]
  },
  {
   "cell_type": "markdown",
   "metadata": {},
   "source": [
    "Imagine that the data contains the results of two tests of several students."
   ]
  },
  {
   "cell_type": "code",
   "execution_count": null,
   "metadata": {},
   "outputs": [],
   "source": [
    "test_results = {'Test1':[84,37,55], 'Test2':[91,62,74]}\n",
    "tests = pd.DataFrame(test_results)\n",
    "tests.index = ['John Brown','Sarah Green','Peter Black']\n",
    "tests"
   ]
  },
  {
   "cell_type": "markdown",
   "metadata": {},
   "source": [
    "You want to add a column that contains the sum of the points obtained."
   ]
  },
  {
   "cell_type": "code",
   "execution_count": null,
   "metadata": {},
   "outputs": [],
   "source": [
    "tests['Total'] = tests['Test1'] + tests['Test2']\n",
    "tests"
   ]
  },
  {
   "cell_type": "markdown",
   "metadata": {},
   "source": [
    "### Tasks"
   ]
  },
  {
   "cell_type": "markdown",
   "metadata": {},
   "source": [
    "To the test results, add a column containing the arithmetic mean of Test1 and Test2."
   ]
  },
  {
   "cell_type": "markdown",
   "metadata": {},
   "source": [
    "The speed camera recorded the speeds of vehicles in km/h. The table below contains recorded speeds along with vehicle registration numbers.\n",
    "\n",
    "Day    | KMH\n",
    "-------|---------\n",
    "BW3941 | 58\n",
    "GM2309 | 76\n",
    "WX1515 | 47\n",
    "BB0099 | 50\n",
    "\n",
    "1. Create a DataFrame containing the speed camera data.\n",
    "1. Display the contents of the DataFrame\n",
    "1. Add a 'Limit' column containing the permitted vehicle speed, i.e. 50 km/h\n",
    "1. Display the contents of the DataFrame\n",
    "1. Add a column in which calculate how many km/h each vehicle exceeded the speed limit\n",
    "1. Display the contents of the DataFrame"
   ]
  }
 ],
 "metadata": {
  "kernelspec": {
   "display_name": "Python 3",
   "language": "python",
   "name": "python3"
  },
  "language_info": {
   "codemirror_mode": {
    "name": "ipython",
    "version": 3
   },
   "file_extension": ".py",
   "mimetype": "text/x-python",
   "name": "python",
   "nbconvert_exporter": "python",
   "pygments_lexer": "ipython3",
   "version": "3.11.1"
  }
 },
 "nbformat": 4,
 "nbformat_minor": 2
}
