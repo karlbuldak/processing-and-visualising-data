{
 "cells": [
  {
   "cell_type": "markdown",
   "metadata": {},
   "source": [
    "# DATA GROUPING\n",
    "---"
   ]
  },
  {
   "cell_type": "markdown",
   "metadata": {},
   "source": [
    "The table below shows the number of visits to a certain online store and the number of products purchased.\n",
    "\n",
    "Day | Browser | Visits | Purchase\n",
    "----|---------|--------|---------\n",
    "Monday | Edge | 15 | 3\n",
    "Monday | Chrome | 17 | 1\n",
    "Monday | Safari | 11 | 2\n",
    "Friday | Edge | 10 | 2\n",
    "Friday | Safari | 23 | 7\n",
    "Sunday | Chrome | 34 | 12\n"
   ]
  },
  {
   "cell_type": "code",
   "execution_count": 1,
   "metadata": {},
   "outputs": [
    {
     "data": {
      "text/html": [
       "<div>\n",
       "<style scoped>\n",
       "    .dataframe tbody tr th:only-of-type {\n",
       "        vertical-align: middle;\n",
       "    }\n",
       "\n",
       "    .dataframe tbody tr th {\n",
       "        vertical-align: top;\n",
       "    }\n",
       "\n",
       "    .dataframe thead th {\n",
       "        text-align: right;\n",
       "    }\n",
       "</style>\n",
       "<table border=\"1\" class=\"dataframe\">\n",
       "  <thead>\n",
       "    <tr style=\"text-align: right;\">\n",
       "      <th></th>\n",
       "      <th>Day</th>\n",
       "      <th>Browser</th>\n",
       "      <th>Visits</th>\n",
       "      <th>Purchase</th>\n",
       "    </tr>\n",
       "  </thead>\n",
       "  <tbody>\n",
       "    <tr>\n",
       "      <th>0</th>\n",
       "      <td>Monday</td>\n",
       "      <td>Edge</td>\n",
       "      <td>15</td>\n",
       "      <td>3</td>\n",
       "    </tr>\n",
       "    <tr>\n",
       "      <th>1</th>\n",
       "      <td>Monday</td>\n",
       "      <td>Chrome</td>\n",
       "      <td>17</td>\n",
       "      <td>1</td>\n",
       "    </tr>\n",
       "    <tr>\n",
       "      <th>2</th>\n",
       "      <td>Monday</td>\n",
       "      <td>Safari</td>\n",
       "      <td>11</td>\n",
       "      <td>2</td>\n",
       "    </tr>\n",
       "    <tr>\n",
       "      <th>3</th>\n",
       "      <td>Friday</td>\n",
       "      <td>Edge</td>\n",
       "      <td>10</td>\n",
       "      <td>2</td>\n",
       "    </tr>\n",
       "    <tr>\n",
       "      <th>4</th>\n",
       "      <td>Friday</td>\n",
       "      <td>Safari</td>\n",
       "      <td>23</td>\n",
       "      <td>7</td>\n",
       "    </tr>\n",
       "    <tr>\n",
       "      <th>5</th>\n",
       "      <td>Sunday</td>\n",
       "      <td>Chrome</td>\n",
       "      <td>34</td>\n",
       "      <td>12</td>\n",
       "    </tr>\n",
       "  </tbody>\n",
       "</table>\n",
       "</div>"
      ],
      "text/plain": [
       "      Day Browser  Visits  Purchase\n",
       "0  Monday    Edge      15         3\n",
       "1  Monday  Chrome      17         1\n",
       "2  Monday  Safari      11         2\n",
       "3  Friday    Edge      10         2\n",
       "4  Friday  Safari      23         7\n",
       "5  Sunday  Chrome      34        12"
      ]
     },
     "execution_count": 1,
     "metadata": {},
     "output_type": "execute_result"
    }
   ],
   "source": [
    "import pandas as pd\n",
    "visits_data = {\n",
    "    'Day':['Monday','Monday','Monday','Friday','Friday','Sunday'],\n",
    "    'Browser':['Edge','Chrome','Safari','Edge','Safari','Chrome'],\n",
    "    'Visits':[15,17,11,10,23,34],\n",
    "    'Purchase':[3,1,2,2,7,12]\n",
    "    }\n",
    "visits = pd.DataFrame(visits_data)\n",
    "visits\n"
   ]
  },
  {
   "cell_type": "markdown",
   "metadata": {},
   "source": [
    "To calculate and display the total number of visits on individual days of the week, specify the result columns, the columns by which the data are grouped and the aggregation function:"
   ]
  },
  {
   "cell_type": "code",
   "execution_count": 2,
   "metadata": {},
   "outputs": [
    {
     "data": {
      "text/html": [
       "<div>\n",
       "<style scoped>\n",
       "    .dataframe tbody tr th:only-of-type {\n",
       "        vertical-align: middle;\n",
       "    }\n",
       "\n",
       "    .dataframe tbody tr th {\n",
       "        vertical-align: top;\n",
       "    }\n",
       "\n",
       "    .dataframe thead th {\n",
       "        text-align: right;\n",
       "    }\n",
       "</style>\n",
       "<table border=\"1\" class=\"dataframe\">\n",
       "  <thead>\n",
       "    <tr style=\"text-align: right;\">\n",
       "      <th></th>\n",
       "      <th>Visits</th>\n",
       "    </tr>\n",
       "    <tr>\n",
       "      <th>Day</th>\n",
       "      <th></th>\n",
       "    </tr>\n",
       "  </thead>\n",
       "  <tbody>\n",
       "    <tr>\n",
       "      <th>Friday</th>\n",
       "      <td>33</td>\n",
       "    </tr>\n",
       "    <tr>\n",
       "      <th>Monday</th>\n",
       "      <td>43</td>\n",
       "    </tr>\n",
       "    <tr>\n",
       "      <th>Sunday</th>\n",
       "      <td>34</td>\n",
       "    </tr>\n",
       "  </tbody>\n",
       "</table>\n",
       "</div>"
      ],
      "text/plain": [
       "        Visits\n",
       "Day           \n",
       "Friday      33\n",
       "Monday      43\n",
       "Sunday      34"
      ]
     },
     "execution_count": 2,
     "metadata": {},
     "output_type": "execute_result"
    }
   ],
   "source": [
    "visits.loc[:,['Day','Visits']].groupby(['Day']).sum()"
   ]
  },
  {
   "cell_type": "markdown",
   "metadata": {},
   "source": [
    "If you also want to calculate the total of products purchased for each week, add the column name 'Purchase' to the list of result columns."
   ]
  },
  {
   "cell_type": "code",
   "execution_count": 3,
   "metadata": {},
   "outputs": [
    {
     "data": {
      "text/html": [
       "<div>\n",
       "<style scoped>\n",
       "    .dataframe tbody tr th:only-of-type {\n",
       "        vertical-align: middle;\n",
       "    }\n",
       "\n",
       "    .dataframe tbody tr th {\n",
       "        vertical-align: top;\n",
       "    }\n",
       "\n",
       "    .dataframe thead th {\n",
       "        text-align: right;\n",
       "    }\n",
       "</style>\n",
       "<table border=\"1\" class=\"dataframe\">\n",
       "  <thead>\n",
       "    <tr style=\"text-align: right;\">\n",
       "      <th></th>\n",
       "      <th>Visits</th>\n",
       "      <th>Purchase</th>\n",
       "    </tr>\n",
       "    <tr>\n",
       "      <th>Day</th>\n",
       "      <th></th>\n",
       "      <th></th>\n",
       "    </tr>\n",
       "  </thead>\n",
       "  <tbody>\n",
       "    <tr>\n",
       "      <th>Friday</th>\n",
       "      <td>33</td>\n",
       "      <td>9</td>\n",
       "    </tr>\n",
       "    <tr>\n",
       "      <th>Monday</th>\n",
       "      <td>43</td>\n",
       "      <td>6</td>\n",
       "    </tr>\n",
       "    <tr>\n",
       "      <th>Sunday</th>\n",
       "      <td>34</td>\n",
       "      <td>12</td>\n",
       "    </tr>\n",
       "  </tbody>\n",
       "</table>\n",
       "</div>"
      ],
      "text/plain": [
       "        Visits  Purchase\n",
       "Day                     \n",
       "Friday      33         9\n",
       "Monday      43         6\n",
       "Sunday      34        12"
      ]
     },
     "execution_count": 3,
     "metadata": {},
     "output_type": "execute_result"
    }
   ],
   "source": [
    "visits.loc[:,['Day','Visits','Purchase']].groupby(['Day']).sum()"
   ]
  },
  {
   "cell_type": "code",
   "execution_count": 4,
   "metadata": {},
   "outputs": [
    {
     "data": {
      "text/html": [
       "<div>\n",
       "<style scoped>\n",
       "    .dataframe tbody tr th:only-of-type {\n",
       "        vertical-align: middle;\n",
       "    }\n",
       "\n",
       "    .dataframe tbody tr th {\n",
       "        vertical-align: top;\n",
       "    }\n",
       "\n",
       "    .dataframe thead th {\n",
       "        text-align: right;\n",
       "    }\n",
       "</style>\n",
       "<table border=\"1\" class=\"dataframe\">\n",
       "  <thead>\n",
       "    <tr style=\"text-align: right;\">\n",
       "      <th></th>\n",
       "      <th>Day</th>\n",
       "      <th>Browser</th>\n",
       "      <th>Visits</th>\n",
       "      <th>Purchase</th>\n",
       "    </tr>\n",
       "  </thead>\n",
       "  <tbody>\n",
       "    <tr>\n",
       "      <th>0</th>\n",
       "      <td>Monday</td>\n",
       "      <td>Edge</td>\n",
       "      <td>15</td>\n",
       "      <td>3</td>\n",
       "    </tr>\n",
       "    <tr>\n",
       "      <th>1</th>\n",
       "      <td>Monday</td>\n",
       "      <td>Chrome</td>\n",
       "      <td>17</td>\n",
       "      <td>1</td>\n",
       "    </tr>\n",
       "    <tr>\n",
       "      <th>2</th>\n",
       "      <td>Monday</td>\n",
       "      <td>Safari</td>\n",
       "      <td>11</td>\n",
       "      <td>2</td>\n",
       "    </tr>\n",
       "    <tr>\n",
       "      <th>3</th>\n",
       "      <td>Friday</td>\n",
       "      <td>Edge</td>\n",
       "      <td>10</td>\n",
       "      <td>2</td>\n",
       "    </tr>\n",
       "    <tr>\n",
       "      <th>4</th>\n",
       "      <td>Friday</td>\n",
       "      <td>Safari</td>\n",
       "      <td>23</td>\n",
       "      <td>7</td>\n",
       "    </tr>\n",
       "    <tr>\n",
       "      <th>5</th>\n",
       "      <td>Sunday</td>\n",
       "      <td>Chrome</td>\n",
       "      <td>34</td>\n",
       "      <td>12</td>\n",
       "    </tr>\n",
       "  </tbody>\n",
       "</table>\n",
       "</div>"
      ],
      "text/plain": [
       "      Day Browser  Visits  Purchase\n",
       "0  Monday    Edge      15         3\n",
       "1  Monday  Chrome      17         1\n",
       "2  Monday  Safari      11         2\n",
       "3  Friday    Edge      10         2\n",
       "4  Friday  Safari      23         7\n",
       "5  Sunday  Chrome      34        12"
      ]
     },
     "execution_count": 4,
     "metadata": {},
     "output_type": "execute_result"
    }
   ],
   "source": [
    "visits"
   ]
  },
  {
   "cell_type": "markdown",
   "metadata": {},
   "source": [
    "### Tasks"
   ]
  },
  {
   "cell_type": "markdown",
   "metadata": {},
   "source": [
    "Calculate and display the average number of website visits by day of the week, depending on the web browser."
   ]
  },
  {
   "cell_type": "code",
   "execution_count": 16,
   "metadata": {},
   "outputs": [
    {
     "data": {
      "text/html": [
       "<div>\n",
       "<style scoped>\n",
       "    .dataframe tbody tr th:only-of-type {\n",
       "        vertical-align: middle;\n",
       "    }\n",
       "\n",
       "    .dataframe tbody tr th {\n",
       "        vertical-align: top;\n",
       "    }\n",
       "\n",
       "    .dataframe thead th {\n",
       "        text-align: right;\n",
       "    }\n",
       "</style>\n",
       "<table border=\"1\" class=\"dataframe\">\n",
       "  <thead>\n",
       "    <tr style=\"text-align: right;\">\n",
       "      <th></th>\n",
       "      <th></th>\n",
       "      <th>Visits</th>\n",
       "    </tr>\n",
       "    <tr>\n",
       "      <th>Day</th>\n",
       "      <th>Browser</th>\n",
       "      <th></th>\n",
       "    </tr>\n",
       "  </thead>\n",
       "  <tbody>\n",
       "    <tr>\n",
       "      <th rowspan=\"2\" valign=\"top\">Friday</th>\n",
       "      <th>Edge</th>\n",
       "      <td>10.0</td>\n",
       "    </tr>\n",
       "    <tr>\n",
       "      <th>Safari</th>\n",
       "      <td>23.0</td>\n",
       "    </tr>\n",
       "    <tr>\n",
       "      <th rowspan=\"3\" valign=\"top\">Monday</th>\n",
       "      <th>Chrome</th>\n",
       "      <td>17.0</td>\n",
       "    </tr>\n",
       "    <tr>\n",
       "      <th>Edge</th>\n",
       "      <td>15.0</td>\n",
       "    </tr>\n",
       "    <tr>\n",
       "      <th>Safari</th>\n",
       "      <td>11.0</td>\n",
       "    </tr>\n",
       "    <tr>\n",
       "      <th>Sunday</th>\n",
       "      <th>Chrome</th>\n",
       "      <td>34.0</td>\n",
       "    </tr>\n",
       "  </tbody>\n",
       "</table>\n",
       "</div>"
      ],
      "text/plain": [
       "                Visits\n",
       "Day    Browser        \n",
       "Friday Edge       10.0\n",
       "       Safari     23.0\n",
       "Monday Chrome     17.0\n",
       "       Edge       15.0\n",
       "       Safari     11.0\n",
       "Sunday Chrome     34.0"
      ]
     },
     "execution_count": 16,
     "metadata": {},
     "output_type": "execute_result"
    }
   ],
   "source": [
    "visits.loc[:,['Day', 'Browser', 'Visits']].groupby(['Day','Browser']).mean()"
   ]
  },
  {
   "cell_type": "markdown",
   "metadata": {},
   "source": [
    "Calculate and display the number of web browsers used on specific days of the week."
   ]
  },
  {
   "cell_type": "code",
   "execution_count": 18,
   "metadata": {},
   "outputs": [
    {
     "data": {
      "text/html": [
       "<div>\n",
       "<style scoped>\n",
       "    .dataframe tbody tr th:only-of-type {\n",
       "        vertical-align: middle;\n",
       "    }\n",
       "\n",
       "    .dataframe tbody tr th {\n",
       "        vertical-align: top;\n",
       "    }\n",
       "\n",
       "    .dataframe thead th {\n",
       "        text-align: right;\n",
       "    }\n",
       "</style>\n",
       "<table border=\"1\" class=\"dataframe\">\n",
       "  <thead>\n",
       "    <tr style=\"text-align: right;\">\n",
       "      <th></th>\n",
       "      <th>Browser</th>\n",
       "    </tr>\n",
       "    <tr>\n",
       "      <th>Day</th>\n",
       "      <th></th>\n",
       "    </tr>\n",
       "  </thead>\n",
       "  <tbody>\n",
       "    <tr>\n",
       "      <th>Friday</th>\n",
       "      <td>2</td>\n",
       "    </tr>\n",
       "    <tr>\n",
       "      <th>Monday</th>\n",
       "      <td>3</td>\n",
       "    </tr>\n",
       "    <tr>\n",
       "      <th>Sunday</th>\n",
       "      <td>1</td>\n",
       "    </tr>\n",
       "  </tbody>\n",
       "</table>\n",
       "</div>"
      ],
      "text/plain": [
       "        Browser\n",
       "Day            \n",
       "Friday        2\n",
       "Monday        3\n",
       "Sunday        1"
      ]
     },
     "execution_count": 18,
     "metadata": {},
     "output_type": "execute_result"
    }
   ],
   "source": [
    "visits.loc[:,['Day','Browser']].groupby(['Day']).count()"
   ]
  },
  {
   "cell_type": "markdown",
   "metadata": {},
   "source": [
    "Calculate and display the number of web browsers used on specific days of the week. Sort the results in descending order."
   ]
  },
  {
   "cell_type": "code",
   "execution_count": 20,
   "metadata": {},
   "outputs": [
    {
     "data": {
      "text/html": [
       "<div>\n",
       "<style scoped>\n",
       "    .dataframe tbody tr th:only-of-type {\n",
       "        vertical-align: middle;\n",
       "    }\n",
       "\n",
       "    .dataframe tbody tr th {\n",
       "        vertical-align: top;\n",
       "    }\n",
       "\n",
       "    .dataframe thead th {\n",
       "        text-align: right;\n",
       "    }\n",
       "</style>\n",
       "<table border=\"1\" class=\"dataframe\">\n",
       "  <thead>\n",
       "    <tr style=\"text-align: right;\">\n",
       "      <th></th>\n",
       "      <th>Browser</th>\n",
       "    </tr>\n",
       "    <tr>\n",
       "      <th>Day</th>\n",
       "      <th></th>\n",
       "    </tr>\n",
       "  </thead>\n",
       "  <tbody>\n",
       "    <tr>\n",
       "      <th>Monday</th>\n",
       "      <td>3</td>\n",
       "    </tr>\n",
       "    <tr>\n",
       "      <th>Friday</th>\n",
       "      <td>2</td>\n",
       "    </tr>\n",
       "    <tr>\n",
       "      <th>Sunday</th>\n",
       "      <td>1</td>\n",
       "    </tr>\n",
       "  </tbody>\n",
       "</table>\n",
       "</div>"
      ],
      "text/plain": [
       "        Browser\n",
       "Day            \n",
       "Monday        3\n",
       "Friday        2\n",
       "Sunday        1"
      ]
     },
     "execution_count": 20,
     "metadata": {},
     "output_type": "execute_result"
    }
   ],
   "source": [
    "visits.loc[:,['Day','Browser']].groupby(['Day']).count().sort_values(by='Browser', ascending=False)"
   ]
  },
  {
   "cell_type": "markdown",
   "metadata": {},
   "source": [
    "The 'employees.csv' file contains data of employees of one of the IT companies. Display employee list. Then, calculate and display:\n",
    "\n",
    "1. Number of women and men\n",
    "1. Number of employees by country\n",
    "1. Number of women and men by country\n",
    "1. Average age of employees\n",
    "1. Average age of women and men\n",
    "1. Average salary in the company.\n",
    "1. Average salary of women and men\n",
    "1. Minimum age of women and men by country. Sort the results in descending order.\n",
    "1. Median salary of women and men by country.\n",
    "1. Median salary of women and men by country. Save the results to a csv file."
   ]
  },
  {
   "cell_type": "code",
   "execution_count": 22,
   "metadata": {},
   "outputs": [
    {
     "data": {
      "text/html": [
       "<div>\n",
       "<style scoped>\n",
       "    .dataframe tbody tr th:only-of-type {\n",
       "        vertical-align: middle;\n",
       "    }\n",
       "\n",
       "    .dataframe tbody tr th {\n",
       "        vertical-align: top;\n",
       "    }\n",
       "\n",
       "    .dataframe thead th {\n",
       "        text-align: right;\n",
       "    }\n",
       "</style>\n",
       "<table border=\"1\" class=\"dataframe\">\n",
       "  <thead>\n",
       "    <tr style=\"text-align: right;\">\n",
       "      <th></th>\n",
       "      <th>first_name</th>\n",
       "      <th>last_name</th>\n",
       "      <th>sex</th>\n",
       "      <th>age</th>\n",
       "      <th>country</th>\n",
       "      <th>job_title</th>\n",
       "      <th>start_date</th>\n",
       "      <th>salary</th>\n",
       "    </tr>\n",
       "  </thead>\n",
       "  <tbody>\n",
       "    <tr>\n",
       "      <th>0</th>\n",
       "      <td>Lucho</td>\n",
       "      <td>Maytum</td>\n",
       "      <td>Male</td>\n",
       "      <td>37</td>\n",
       "      <td>United Kingdom</td>\n",
       "      <td>Mechanical Systems Engineer</td>\n",
       "      <td>2/10/2016</td>\n",
       "      <td>148308.96</td>\n",
       "    </tr>\n",
       "    <tr>\n",
       "      <th>1</th>\n",
       "      <td>Torrance</td>\n",
       "      <td>Brandi</td>\n",
       "      <td>Male</td>\n",
       "      <td>60</td>\n",
       "      <td>Czech Republic</td>\n",
       "      <td>Paralegal</td>\n",
       "      <td>8/12/2020</td>\n",
       "      <td>57026.74</td>\n",
       "    </tr>\n",
       "    <tr>\n",
       "      <th>2</th>\n",
       "      <td>Missie</td>\n",
       "      <td>Kulic</td>\n",
       "      <td>Female</td>\n",
       "      <td>49</td>\n",
       "      <td>Poland</td>\n",
       "      <td>Business Systems Development Analyst</td>\n",
       "      <td>2/21/2015</td>\n",
       "      <td>133566.77</td>\n",
       "    </tr>\n",
       "    <tr>\n",
       "      <th>3</th>\n",
       "      <td>Rickie</td>\n",
       "      <td>Somerville</td>\n",
       "      <td>Male</td>\n",
       "      <td>39</td>\n",
       "      <td>Czech Republic</td>\n",
       "      <td>Speech Pathologist</td>\n",
       "      <td>3/11/2014</td>\n",
       "      <td>53750.68</td>\n",
       "    </tr>\n",
       "    <tr>\n",
       "      <th>4</th>\n",
       "      <td>Gawen</td>\n",
       "      <td>Richarz</td>\n",
       "      <td>Male</td>\n",
       "      <td>50</td>\n",
       "      <td>Poland</td>\n",
       "      <td>Senior Cost Accountant</td>\n",
       "      <td>7/19/2019</td>\n",
       "      <td>115606.12</td>\n",
       "    </tr>\n",
       "    <tr>\n",
       "      <th>5</th>\n",
       "      <td>Sadella</td>\n",
       "      <td>Batterham</td>\n",
       "      <td>Female</td>\n",
       "      <td>37</td>\n",
       "      <td>Czech Republic</td>\n",
       "      <td>Assistant Media Planner</td>\n",
       "      <td>1/14/2017</td>\n",
       "      <td>136875.05</td>\n",
       "    </tr>\n",
       "    <tr>\n",
       "      <th>6</th>\n",
       "      <td>Meghann</td>\n",
       "      <td>Dance</td>\n",
       "      <td>Female</td>\n",
       "      <td>20</td>\n",
       "      <td>Czech Republic</td>\n",
       "      <td>Media Manager II</td>\n",
       "      <td>6/10/2014</td>\n",
       "      <td>44973.70</td>\n",
       "    </tr>\n",
       "    <tr>\n",
       "      <th>7</th>\n",
       "      <td>Obidiah</td>\n",
       "      <td>Bradburn</td>\n",
       "      <td>Male</td>\n",
       "      <td>49</td>\n",
       "      <td>Czech Republic</td>\n",
       "      <td>Geological Engineer</td>\n",
       "      <td>12/2/2010</td>\n",
       "      <td>64912.33</td>\n",
       "    </tr>\n",
       "    <tr>\n",
       "      <th>8</th>\n",
       "      <td>Dolph</td>\n",
       "      <td>Mesnard</td>\n",
       "      <td>Male</td>\n",
       "      <td>53</td>\n",
       "      <td>Czech Republic</td>\n",
       "      <td>Automation Specialist II</td>\n",
       "      <td>7/21/2012</td>\n",
       "      <td>82159.90</td>\n",
       "    </tr>\n",
       "    <tr>\n",
       "      <th>9</th>\n",
       "      <td>Fabien</td>\n",
       "      <td>McLanaghan</td>\n",
       "      <td>Male</td>\n",
       "      <td>48</td>\n",
       "      <td>Czech Republic</td>\n",
       "      <td>Graphic Designer</td>\n",
       "      <td>12/1/2021</td>\n",
       "      <td>63059.52</td>\n",
       "    </tr>\n",
       "    <tr>\n",
       "      <th>10</th>\n",
       "      <td>Shaina</td>\n",
       "      <td>Gaveltone</td>\n",
       "      <td>Female</td>\n",
       "      <td>58</td>\n",
       "      <td>Poland</td>\n",
       "      <td>Web Designer II</td>\n",
       "      <td>9/12/2010</td>\n",
       "      <td>21228.29</td>\n",
       "    </tr>\n",
       "    <tr>\n",
       "      <th>11</th>\n",
       "      <td>Annemarie</td>\n",
       "      <td>Albers</td>\n",
       "      <td>Female</td>\n",
       "      <td>50</td>\n",
       "      <td>Poland</td>\n",
       "      <td>Structural Analysis Engineer</td>\n",
       "      <td>3/12/2020</td>\n",
       "      <td>109840.09</td>\n",
       "    </tr>\n",
       "    <tr>\n",
       "      <th>12</th>\n",
       "      <td>Erinn</td>\n",
       "      <td>Borell</td>\n",
       "      <td>Female</td>\n",
       "      <td>36</td>\n",
       "      <td>Czech Republic</td>\n",
       "      <td>Help Desk Technician</td>\n",
       "      <td>11/6/2011</td>\n",
       "      <td>22500.03</td>\n",
       "    </tr>\n",
       "    <tr>\n",
       "      <th>13</th>\n",
       "      <td>Loydie</td>\n",
       "      <td>Cubbinelli</td>\n",
       "      <td>Male</td>\n",
       "      <td>35</td>\n",
       "      <td>Czech Republic</td>\n",
       "      <td>Systems Administrator IV</td>\n",
       "      <td>5/13/2014</td>\n",
       "      <td>34415.64</td>\n",
       "    </tr>\n",
       "    <tr>\n",
       "      <th>14</th>\n",
       "      <td>Osbourne</td>\n",
       "      <td>Rawet</td>\n",
       "      <td>Male</td>\n",
       "      <td>50</td>\n",
       "      <td>Poland</td>\n",
       "      <td>Office Assistant III</td>\n",
       "      <td>8/12/2021</td>\n",
       "      <td>41511.02</td>\n",
       "    </tr>\n",
       "    <tr>\n",
       "      <th>15</th>\n",
       "      <td>Ettore</td>\n",
       "      <td>Ernke</td>\n",
       "      <td>Male</td>\n",
       "      <td>49</td>\n",
       "      <td>Poland</td>\n",
       "      <td>Environmental Specialist</td>\n",
       "      <td>3/14/2022</td>\n",
       "      <td>103866.10</td>\n",
       "    </tr>\n",
       "    <tr>\n",
       "      <th>16</th>\n",
       "      <td>Mortie</td>\n",
       "      <td>Goodayle</td>\n",
       "      <td>Male</td>\n",
       "      <td>56</td>\n",
       "      <td>Czech Republic</td>\n",
       "      <td>Product Engineer</td>\n",
       "      <td>5/18/2011</td>\n",
       "      <td>40060.88</td>\n",
       "    </tr>\n",
       "    <tr>\n",
       "      <th>17</th>\n",
       "      <td>Courtnay</td>\n",
       "      <td>Creevy</td>\n",
       "      <td>Male</td>\n",
       "      <td>61</td>\n",
       "      <td>Czech Republic</td>\n",
       "      <td>Legal Assistant</td>\n",
       "      <td>1/14/2015</td>\n",
       "      <td>57492.08</td>\n",
       "    </tr>\n",
       "    <tr>\n",
       "      <th>18</th>\n",
       "      <td>Rochella</td>\n",
       "      <td>Slym</td>\n",
       "      <td>Female</td>\n",
       "      <td>19</td>\n",
       "      <td>Poland</td>\n",
       "      <td>Account Representative I</td>\n",
       "      <td>10/5/2019</td>\n",
       "      <td>105826.54</td>\n",
       "    </tr>\n",
       "    <tr>\n",
       "      <th>19</th>\n",
       "      <td>Frannie</td>\n",
       "      <td>McMorran</td>\n",
       "      <td>Male</td>\n",
       "      <td>47</td>\n",
       "      <td>Poland</td>\n",
       "      <td>Budget/Accounting Analyst II</td>\n",
       "      <td>3/31/2020</td>\n",
       "      <td>39107.88</td>\n",
       "    </tr>\n",
       "  </tbody>\n",
       "</table>\n",
       "</div>"
      ],
      "text/plain": [
       "   first_name   last_name     sex  age         country  \\\n",
       "0       Lucho      Maytum    Male   37  United Kingdom   \n",
       "1    Torrance      Brandi    Male   60  Czech Republic   \n",
       "2      Missie       Kulic  Female   49          Poland   \n",
       "3      Rickie  Somerville    Male   39  Czech Republic   \n",
       "4       Gawen     Richarz    Male   50          Poland   \n",
       "5     Sadella   Batterham  Female   37  Czech Republic   \n",
       "6     Meghann       Dance  Female   20  Czech Republic   \n",
       "7     Obidiah    Bradburn    Male   49  Czech Republic   \n",
       "8       Dolph     Mesnard    Male   53  Czech Republic   \n",
       "9      Fabien  McLanaghan    Male   48  Czech Republic   \n",
       "10     Shaina   Gaveltone  Female   58          Poland   \n",
       "11  Annemarie      Albers  Female   50          Poland   \n",
       "12      Erinn      Borell  Female   36  Czech Republic   \n",
       "13     Loydie  Cubbinelli    Male   35  Czech Republic   \n",
       "14   Osbourne       Rawet    Male   50          Poland   \n",
       "15     Ettore       Ernke    Male   49          Poland   \n",
       "16     Mortie    Goodayle    Male   56  Czech Republic   \n",
       "17   Courtnay      Creevy    Male   61  Czech Republic   \n",
       "18   Rochella        Slym  Female   19          Poland   \n",
       "19    Frannie    McMorran    Male   47          Poland   \n",
       "\n",
       "                               job_title start_date     salary  \n",
       "0            Mechanical Systems Engineer  2/10/2016  148308.96  \n",
       "1                              Paralegal  8/12/2020   57026.74  \n",
       "2   Business Systems Development Analyst  2/21/2015  133566.77  \n",
       "3                     Speech Pathologist  3/11/2014   53750.68  \n",
       "4                 Senior Cost Accountant  7/19/2019  115606.12  \n",
       "5                Assistant Media Planner  1/14/2017  136875.05  \n",
       "6                       Media Manager II  6/10/2014   44973.70  \n",
       "7                    Geological Engineer  12/2/2010   64912.33  \n",
       "8               Automation Specialist II  7/21/2012   82159.90  \n",
       "9                       Graphic Designer  12/1/2021   63059.52  \n",
       "10                       Web Designer II  9/12/2010   21228.29  \n",
       "11          Structural Analysis Engineer  3/12/2020  109840.09  \n",
       "12                  Help Desk Technician  11/6/2011   22500.03  \n",
       "13              Systems Administrator IV  5/13/2014   34415.64  \n",
       "14                  Office Assistant III  8/12/2021   41511.02  \n",
       "15              Environmental Specialist  3/14/2022  103866.10  \n",
       "16                      Product Engineer  5/18/2011   40060.88  \n",
       "17                       Legal Assistant  1/14/2015   57492.08  \n",
       "18              Account Representative I  10/5/2019  105826.54  \n",
       "19          Budget/Accounting Analyst II  3/31/2020   39107.88  "
      ]
     },
     "execution_count": 22,
     "metadata": {},
     "output_type": "execute_result"
    }
   ],
   "source": [
    "employees = pd.read_csv(\"employees.csv\")\n",
    "employees"
   ]
  },
  {
   "cell_type": "code",
   "execution_count": 48,
   "metadata": {},
   "outputs": [
    {
     "data": {
      "text/plain": [
       "sex\n",
       "Male      13\n",
       "Female     7\n",
       "Name: count, dtype: int64"
      ]
     },
     "execution_count": 48,
     "metadata": {},
     "output_type": "execute_result"
    }
   ],
   "source": [
    "employees['sex'].value_counts()"
   ]
  },
  {
   "cell_type": "code",
   "execution_count": 50,
   "metadata": {},
   "outputs": [
    {
     "data": {
      "text/plain": [
       "country\n",
       "Czech Republic    11\n",
       "Poland             8\n",
       "United Kingdom     1\n",
       "Name: count, dtype: int64"
      ]
     },
     "execution_count": 50,
     "metadata": {},
     "output_type": "execute_result"
    }
   ],
   "source": [
    "employees['country'].value_counts()"
   ]
  },
  {
   "cell_type": "code",
   "execution_count": 60,
   "metadata": {},
   "outputs": [
    {
     "data": {
      "text/plain": [
       "country         sex   \n",
       "Czech Republic  Female    3\n",
       "                Male      8\n",
       "Poland          Female    4\n",
       "                Male      4\n",
       "United Kingdom  Male      1\n",
       "Name: count, dtype: int64"
      ]
     },
     "execution_count": 60,
     "metadata": {},
     "output_type": "execute_result"
    }
   ],
   "source": [
    "employees.loc[:,['sex','country']].groupby(['country','sex']).value_counts()"
   ]
  },
  {
   "cell_type": "code",
   "execution_count": 61,
   "metadata": {},
   "outputs": [
    {
     "data": {
      "text/plain": [
       "age    45.15\n",
       "dtype: float64"
      ]
     },
     "execution_count": 61,
     "metadata": {},
     "output_type": "execute_result"
    }
   ],
   "source": [
    "employees.loc[:,['age']].mean()"
   ]
  },
  {
   "cell_type": "code",
   "execution_count": 65,
   "metadata": {},
   "outputs": [
    {
     "data": {
      "text/html": [
       "<div>\n",
       "<style scoped>\n",
       "    .dataframe tbody tr th:only-of-type {\n",
       "        vertical-align: middle;\n",
       "    }\n",
       "\n",
       "    .dataframe tbody tr th {\n",
       "        vertical-align: top;\n",
       "    }\n",
       "\n",
       "    .dataframe thead th {\n",
       "        text-align: right;\n",
       "    }\n",
       "</style>\n",
       "<table border=\"1\" class=\"dataframe\">\n",
       "  <thead>\n",
       "    <tr style=\"text-align: right;\">\n",
       "      <th></th>\n",
       "      <th>age</th>\n",
       "    </tr>\n",
       "    <tr>\n",
       "      <th>sex</th>\n",
       "      <th></th>\n",
       "    </tr>\n",
       "  </thead>\n",
       "  <tbody>\n",
       "    <tr>\n",
       "      <th>Female</th>\n",
       "      <td>38.428571</td>\n",
       "    </tr>\n",
       "    <tr>\n",
       "      <th>Male</th>\n",
       "      <td>48.769231</td>\n",
       "    </tr>\n",
       "  </tbody>\n",
       "</table>\n",
       "</div>"
      ],
      "text/plain": [
       "              age\n",
       "sex              \n",
       "Female  38.428571\n",
       "Male    48.769231"
      ]
     },
     "execution_count": 65,
     "metadata": {},
     "output_type": "execute_result"
    }
   ],
   "source": [
    "employees.loc[:,['sex','age']].groupby('sex').mean()"
   ]
  },
  {
   "cell_type": "code",
   "execution_count": 66,
   "metadata": {},
   "outputs": [
    {
     "data": {
      "text/plain": [
       "salary    73804.416\n",
       "dtype: float64"
      ]
     },
     "execution_count": 66,
     "metadata": {},
     "output_type": "execute_result"
    }
   ],
   "source": [
    "employees.loc[:,['salary']].mean()"
   ]
  },
  {
   "cell_type": "code",
   "execution_count": 67,
   "metadata": {},
   "outputs": [
    {
     "data": {
      "text/html": [
       "<div>\n",
       "<style scoped>\n",
       "    .dataframe tbody tr th:only-of-type {\n",
       "        vertical-align: middle;\n",
       "    }\n",
       "\n",
       "    .dataframe tbody tr th {\n",
       "        vertical-align: top;\n",
       "    }\n",
       "\n",
       "    .dataframe thead th {\n",
       "        text-align: right;\n",
       "    }\n",
       "</style>\n",
       "<table border=\"1\" class=\"dataframe\">\n",
       "  <thead>\n",
       "    <tr style=\"text-align: right;\">\n",
       "      <th></th>\n",
       "      <th>salary</th>\n",
       "    </tr>\n",
       "    <tr>\n",
       "      <th>sex</th>\n",
       "      <th></th>\n",
       "    </tr>\n",
       "  </thead>\n",
       "  <tbody>\n",
       "    <tr>\n",
       "      <th>Female</th>\n",
       "      <td>82115.781429</td>\n",
       "    </tr>\n",
       "    <tr>\n",
       "      <th>Male</th>\n",
       "      <td>69329.065385</td>\n",
       "    </tr>\n",
       "  </tbody>\n",
       "</table>\n",
       "</div>"
      ],
      "text/plain": [
       "              salary\n",
       "sex                 \n",
       "Female  82115.781429\n",
       "Male    69329.065385"
      ]
     },
     "execution_count": 67,
     "metadata": {},
     "output_type": "execute_result"
    }
   ],
   "source": [
    "employees.loc[:,['sex','salary']].groupby('sex').mean()"
   ]
  },
  {
   "cell_type": "code",
   "execution_count": 75,
   "metadata": {},
   "outputs": [
    {
     "data": {
      "text/html": [
       "<div>\n",
       "<style scoped>\n",
       "    .dataframe tbody tr th:only-of-type {\n",
       "        vertical-align: middle;\n",
       "    }\n",
       "\n",
       "    .dataframe tbody tr th {\n",
       "        vertical-align: top;\n",
       "    }\n",
       "\n",
       "    .dataframe thead th {\n",
       "        text-align: right;\n",
       "    }\n",
       "</style>\n",
       "<table border=\"1\" class=\"dataframe\">\n",
       "  <thead>\n",
       "    <tr style=\"text-align: right;\">\n",
       "      <th></th>\n",
       "      <th></th>\n",
       "      <th>age</th>\n",
       "    </tr>\n",
       "    <tr>\n",
       "      <th>country</th>\n",
       "      <th>sex</th>\n",
       "      <th></th>\n",
       "    </tr>\n",
       "  </thead>\n",
       "  <tbody>\n",
       "    <tr>\n",
       "      <th>Poland</th>\n",
       "      <th>Male</th>\n",
       "      <td>47</td>\n",
       "    </tr>\n",
       "    <tr>\n",
       "      <th>United Kingdom</th>\n",
       "      <th>Male</th>\n",
       "      <td>37</td>\n",
       "    </tr>\n",
       "    <tr>\n",
       "      <th rowspan=\"2\" valign=\"top\">Czech Republic</th>\n",
       "      <th>Male</th>\n",
       "      <td>35</td>\n",
       "    </tr>\n",
       "    <tr>\n",
       "      <th>Female</th>\n",
       "      <td>20</td>\n",
       "    </tr>\n",
       "    <tr>\n",
       "      <th>Poland</th>\n",
       "      <th>Female</th>\n",
       "      <td>19</td>\n",
       "    </tr>\n",
       "  </tbody>\n",
       "</table>\n",
       "</div>"
      ],
      "text/plain": [
       "                       age\n",
       "country        sex        \n",
       "Poland         Male     47\n",
       "United Kingdom Male     37\n",
       "Czech Republic Male     35\n",
       "               Female   20\n",
       "Poland         Female   19"
      ]
     },
     "execution_count": 75,
     "metadata": {},
     "output_type": "execute_result"
    }
   ],
   "source": [
    "employees.loc[:,['sex','country','age']].groupby(['country','sex']).min().sort_values(by='age',ascending=False)"
   ]
  },
  {
   "cell_type": "code",
   "execution_count": 78,
   "metadata": {},
   "outputs": [
    {
     "data": {
      "text/html": [
       "<div>\n",
       "<style scoped>\n",
       "    .dataframe tbody tr th:only-of-type {\n",
       "        vertical-align: middle;\n",
       "    }\n",
       "\n",
       "    .dataframe tbody tr th {\n",
       "        vertical-align: top;\n",
       "    }\n",
       "\n",
       "    .dataframe thead th {\n",
       "        text-align: right;\n",
       "    }\n",
       "</style>\n",
       "<table border=\"1\" class=\"dataframe\">\n",
       "  <thead>\n",
       "    <tr style=\"text-align: right;\">\n",
       "      <th></th>\n",
       "      <th></th>\n",
       "      <th>salary</th>\n",
       "    </tr>\n",
       "    <tr>\n",
       "      <th>country</th>\n",
       "      <th>sex</th>\n",
       "      <th></th>\n",
       "    </tr>\n",
       "  </thead>\n",
       "  <tbody>\n",
       "    <tr>\n",
       "      <th rowspan=\"2\" valign=\"top\">Czech Republic</th>\n",
       "      <th>Female</th>\n",
       "      <td>44973.700</td>\n",
       "    </tr>\n",
       "    <tr>\n",
       "      <th>Male</th>\n",
       "      <td>57259.410</td>\n",
       "    </tr>\n",
       "    <tr>\n",
       "      <th rowspan=\"2\" valign=\"top\">Poland</th>\n",
       "      <th>Female</th>\n",
       "      <td>107833.315</td>\n",
       "    </tr>\n",
       "    <tr>\n",
       "      <th>Male</th>\n",
       "      <td>72688.560</td>\n",
       "    </tr>\n",
       "    <tr>\n",
       "      <th>United Kingdom</th>\n",
       "      <th>Male</th>\n",
       "      <td>148308.960</td>\n",
       "    </tr>\n",
       "  </tbody>\n",
       "</table>\n",
       "</div>"
      ],
      "text/plain": [
       "                           salary\n",
       "country        sex               \n",
       "Czech Republic Female   44973.700\n",
       "               Male     57259.410\n",
       "Poland         Female  107833.315\n",
       "               Male     72688.560\n",
       "United Kingdom Male    148308.960"
      ]
     },
     "execution_count": 78,
     "metadata": {},
     "output_type": "execute_result"
    }
   ],
   "source": [
    "employees.loc[:,['sex','country','salary']].groupby(['country','sex']).median()"
   ]
  },
  {
   "cell_type": "code",
   "execution_count": 80,
   "metadata": {},
   "outputs": [],
   "source": [
    "mediana = employees.loc[:,['sex','country','salary']].groupby(['country','sex']).median()\n",
    "mediana.to_csv(\"mediana.csv\")"
   ]
  }
 ],
 "metadata": {
  "kernelspec": {
   "display_name": "Python 3",
   "language": "python",
   "name": "python3"
  },
  "language_info": {
   "codemirror_mode": {
    "name": "ipython",
    "version": 3
   },
   "file_extension": ".py",
   "mimetype": "text/x-python",
   "name": "python",
   "nbconvert_exporter": "python",
   "pygments_lexer": "ipython3",
   "version": "3.11.4"
  }
 },
 "nbformat": 4,
 "nbformat_minor": 2
}
