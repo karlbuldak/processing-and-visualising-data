{
 "cells": [
  {
   "cell_type": "markdown",
   "metadata": {},
   "source": [
    "# CHART FROM DATAFRAME\n",
    "---"
   ]
  },
  {
   "cell_type": "markdown",
   "metadata": {},
   "source": [
    "## Creating Chart From DataFrame"
   ]
  },
  {
   "cell_type": "markdown",
   "metadata": {},
   "source": [
    "As you remember, a Pandas DataFrame is a two-dimensional data structure that resembles a table with rows and columns. It is a fundamental component in data manipulation and analysis using Python. A DataFrame can contain multiple data sets. \n",
    "\n",
    "When creating a chart, you can present data from all columns, or you can select a column or set of columns and present data from selected columns on the chart."
   ]
  },
  {
   "cell_type": "markdown",
   "metadata": {},
   "source": [
    "Imagine that the data includes average Euro and Dollar exchange rates for the last four days. To create a line charts, just create a chart as you would for a single data series."
   ]
  },
  {
   "cell_type": "code",
   "execution_count": 1,
   "metadata": {},
   "outputs": [],
   "source": [
    "import pandas as pd\n",
    "import matplotlib.pyplot as plt"
   ]
  },
  {
   "cell_type": "code",
   "execution_count": 2,
   "metadata": {},
   "outputs": [
    {
     "data": {
      "text/html": [
       "<div>\n",
       "<style scoped>\n",
       "    .dataframe tbody tr th:only-of-type {\n",
       "        vertical-align: middle;\n",
       "    }\n",
       "\n",
       "    .dataframe tbody tr th {\n",
       "        vertical-align: top;\n",
       "    }\n",
       "\n",
       "    .dataframe thead th {\n",
       "        text-align: right;\n",
       "    }\n",
       "</style>\n",
       "<table border=\"1\" class=\"dataframe\">\n",
       "  <thead>\n",
       "    <tr style=\"text-align: right;\">\n",
       "      <th></th>\n",
       "      <th>USD</th>\n",
       "      <th>EUR</th>\n",
       "    </tr>\n",
       "  </thead>\n",
       "  <tbody>\n",
       "    <tr>\n",
       "      <th>1</th>\n",
       "      <td>3.98</td>\n",
       "      <td>4.28</td>\n",
       "    </tr>\n",
       "    <tr>\n",
       "      <th>2</th>\n",
       "      <td>3.97</td>\n",
       "      <td>4.47</td>\n",
       "    </tr>\n",
       "    <tr>\n",
       "      <th>3</th>\n",
       "      <td>4.09</td>\n",
       "      <td>4.41</td>\n",
       "    </tr>\n",
       "    <tr>\n",
       "      <th>4</th>\n",
       "      <td>4.02</td>\n",
       "      <td>4.41</td>\n",
       "    </tr>\n",
       "  </tbody>\n",
       "</table>\n",
       "</div>"
      ],
      "text/plain": [
       "    USD   EUR\n",
       "1  3.98  4.28\n",
       "2  3.97  4.47\n",
       "3  4.09  4.41\n",
       "4  4.02  4.41"
      ]
     },
     "execution_count": 2,
     "metadata": {},
     "output_type": "execute_result"
    }
   ],
   "source": [
    "currency = {'USD':[3.98,3.97,4.09,4.02],'EUR':[4.28,4.47,4.41,4.41]}\n",
    "df = pd.DataFrame(data=currency)\n",
    "df.index = [1,2,3,4]\n",
    "df\n"
   ]
  },
  {
   "cell_type": "code",
   "execution_count": null,
   "metadata": {},
   "outputs": [],
   "source": [
    "df.plot(title='Currency Rates', xlabel='Days', ylabel='Exchange Rates')"
   ]
  },
  {
   "cell_type": "markdown",
   "metadata": {},
   "source": [
    "If you would like to chart changes in the exchange rate of only one currency, enter the name of the column that contains the values for that currency."
   ]
  },
  {
   "cell_type": "code",
   "execution_count": null,
   "metadata": {},
   "outputs": [],
   "source": [
    "df['USD'].plot(title='USD Currency Rates', xlabel='Days', ylabel='Exchange Rates')"
   ]
  },
  {
   "cell_type": "markdown",
   "metadata": {},
   "source": [
    "### Tasks"
   ]
  },
  {
   "cell_type": "markdown",
   "metadata": {},
   "source": [
    "Create a chart for the Euro currency."
   ]
  },
  {
   "cell_type": "markdown",
   "metadata": {},
   "source": [
    "The exchange rates in the last 4 days for Pound Sterling (GBP) were: 5.01, 4.87, 4.98, 5.09. Add the values of the new currency to your dataset. Create a chart with EUR and GBP (excluding USD) exchange rates."
   ]
  },
  {
   "cell_type": "markdown",
   "metadata": {},
   "source": [
    "## Creating Subplots"
   ]
  },
  {
   "cell_type": "markdown",
   "metadata": {},
   "source": [
    "Each series in a DataFrame can be also plotted on a different axis with the using of subplots. The 'layout' parameter specifies the number of rows and columns in which the charts will be placed."
   ]
  },
  {
   "cell_type": "code",
   "execution_count": null,
   "metadata": {},
   "outputs": [],
   "source": [
    "df.plot(subplots=True, title='Currency Rates', xlabel='Days', ylabel='Exchange Rates', layout=(2,1))"
   ]
  },
  {
   "cell_type": "markdown",
   "metadata": {},
   "source": [
    "### Tasks"
   ]
  },
  {
   "cell_type": "markdown",
   "metadata": {},
   "source": [
    "Add a grid to your charts. Search the Internet to find out what parameter you should use to add a grid."
   ]
  },
  {
   "cell_type": "markdown",
   "metadata": {},
   "source": [
    "The travel agency organizes holiday trips to London, Paris and Barcelona. The table below shows the number of tourists who visited the given cities in July and August. Plot the data on a horizontal(!) bar chart. Do not forget to add a chart title and axis descriptions.\n",
    "\n",
    "Destination | Toursits in July | Tourists in August\n",
    "------------|:----------------:|:-----------------:\n",
    "Paris       | 370              | 409\n",
    "London      | 202              | 315\n",
    "Barcelona   | 584              | 712"
   ]
  },
  {
   "cell_type": "markdown",
   "metadata": {},
   "source": [
    "Using the continents.csv file, create separate bar charts to present information about the population and area of the continents."
   ]
  }
 ],
 "metadata": {
  "kernelspec": {
   "display_name": "Python 3",
   "language": "python",
   "name": "python3"
  },
  "language_info": {
   "codemirror_mode": {
    "name": "ipython",
    "version": 3
   },
   "file_extension": ".py",
   "mimetype": "text/x-python",
   "name": "python",
   "nbconvert_exporter": "python",
   "pygments_lexer": "ipython3",
   "version": "3.11.4"
  }
 },
 "nbformat": 4,
 "nbformat_minor": 2
}
