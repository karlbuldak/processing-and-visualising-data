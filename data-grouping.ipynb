{
 "cells": [
  {
   "cell_type": "markdown",
   "metadata": {},
   "source": [
    "# DATA GROUPING\n",
    "---"
   ]
  },
  {
   "cell_type": "markdown",
   "metadata": {},
   "source": [
    "The table below shows the number of visits to a certain online store and the number of products purchased.\n",
    "\n",
    "Day | Browser | Visits | Purchase\n",
    "----|---------|--------|---------\n",
    "Monday | Edge | 15 | 3\n",
    "Monday | Chrome | 17 | 1\n",
    "Monday | Safari | 11 | 2\n",
    "Friday | Edge | 10 | 2\n",
    "Friday | Safari | 23 | 7\n",
    "Sunday | Chrome | 34 | 12\n"
   ]
  },
  {
   "cell_type": "code",
   "execution_count": null,
   "metadata": {},
   "outputs": [],
   "source": [
    "import pandas as pd\n",
    "visits_data = {\n",
    "    'Day':['Monday','Monday','Monday','Friday','Friday','Sunday'],\n",
    "    'Browser':['Edge','Chrome','Safari','Edge','Safari','Chrome'],\n",
    "    'Visits':[15,17,11,10,23,34],\n",
    "    'Purchase':[3,1,2,2,7,12]\n",
    "    }\n",
    "visits = pd.DataFrame(visits_data)\n",
    "visits\n"
   ]
  },
  {
   "cell_type": "markdown",
   "metadata": {},
   "source": [
    "To calculate and display the total number of visits on individual days of the week, specify the result columns, the columns by which the data are grouped and the aggregation function:"
   ]
  },
  {
   "cell_type": "code",
   "execution_count": null,
   "metadata": {},
   "outputs": [],
   "source": [
    "visits.loc[:,['Day','Visits']].groupby(['Day']).sum()"
   ]
  },
  {
   "cell_type": "markdown",
   "metadata": {},
   "source": [
    "If you also want to calculate the total of products purchased for each week, add the column name 'Purchase' to the list of result columns."
   ]
  },
  {
   "cell_type": "code",
   "execution_count": null,
   "metadata": {},
   "outputs": [],
   "source": [
    "visits.loc[:,['Day','Visits','Purchase']].groupby(['Day']).sum()"
   ]
  },
  {
   "cell_type": "markdown",
   "metadata": {},
   "source": [
    "### Tasks"
   ]
  },
  {
   "cell_type": "markdown",
   "metadata": {},
   "source": [
    "Calculate and display the average number of website visits by day of the week, depending on the web browser."
   ]
  },
  {
   "cell_type": "markdown",
   "metadata": {},
   "source": [
    "Calculate and display the number of web browsers used on specific days of the week."
   ]
  },
  {
   "cell_type": "markdown",
   "metadata": {},
   "source": [
    "Calculate and display the number of web browsers used on specific days of the week. Sort the results in descending order."
   ]
  },
  {
   "cell_type": "markdown",
   "metadata": {},
   "source": [
    "The 'employees.csv' file contains data of employees of one of the IT companies. Display employee list. Then, calculate and display:\n",
    "\n",
    "1. Number of women and men\n",
    "1. Number of employees by country\n",
    "1. Number of women and men by country\n",
    "1. Average age of employees\n",
    "1. Average age of women and men\n",
    "1. Average salary in the company.\n",
    "1. Average salary of women and men\n",
    "1. Minimum age of women and men by country. Sort the results in descending order.\n",
    "1. Median salary of women and men by country.\n",
    "1. Median salary of women and men by country. Save the results to a csv file."
   ]
  }
 ],
 "metadata": {
  "kernelspec": {
   "display_name": "Python 3",
   "language": "python",
   "name": "python3"
  },
  "language_info": {
   "codemirror_mode": {
    "name": "ipython",
    "version": 3
   },
   "file_extension": ".py",
   "mimetype": "text/x-python",
   "name": "python",
   "nbconvert_exporter": "python",
   "pygments_lexer": "ipython3",
   "version": "3.11.1"
  }
 },
 "nbformat": 4,
 "nbformat_minor": 2
}
